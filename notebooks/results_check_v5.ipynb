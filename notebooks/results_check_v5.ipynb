{
 "cells": [
  {
   "metadata": {},
   "cell_type": "markdown",
   "source": [
    "In the V5 runs, we compare different model dimensionality and interface representation. \n",
    "\n",
    "TODO:\n",
    "- Unit test the updated Ellipse dataset class\n",
    "- Re-run v5 experiments with no patch-based decoding\n",
    "- Add surface visualisation output for v5 experiments\n",
    "\n",
    "- To make this a fair test, all results need to be converted back to heaviside representation before computing metrics\n",
    "- Check whether the ellipse dataset has been implemented correctly using some unit tests?\n",
    "- Implement patch-based decoding, and then compute all metrics on entire volumes."
   ],
   "id": "eebf0bdf34f7ead6"
  },
  {
   "cell_type": "code",
   "id": "initial_id",
   "metadata": {
    "collapsed": true
   },
   "source": [
    "import numpy as np\n",
    "import matplotlib.pyplot as plt\n",
    "import pandas as pd\n",
    "import pathlib\n",
    "import json"
   ],
   "outputs": [],
   "execution_count": null
  },
  {
   "metadata": {},
   "cell_type": "code",
   "source": [
    "base_output_dir = pathlib.Path('./../output/lassen')\n",
    "files = list(base_output_dir.glob('interfacial_ae_v5_*'))\n",
    "len(files)"
   ],
   "id": "42e2f464898bdfb9",
   "outputs": [],
   "execution_count": null
  },
  {
   "metadata": {},
   "cell_type": "code",
   "source": [
    "def read_loss_curve_from_file(outdir):\n",
    "    loss_path = outdir / 'loss_history.json'\n",
    "    with open(loss_path) as f:\n",
    "        loss_curve = json.load(f)\n",
    "    return loss_curve"
   ],
   "id": "62f4010c7de085df",
   "outputs": [],
   "execution_count": null
  },
  {
   "metadata": {},
   "cell_type": "code",
   "source": [
    "name_to_loss = {}\n",
    "\n",
    "for f in files:\n",
    "    try:\n",
    "        name_to_loss[f.name] = read_loss_curve_from_file(f)\n",
    "        print(f'Read {f.name}')\n",
    "    except:\n",
    "        print(f'Error reading {f.name}')"
   ],
   "id": "1544ef6d75b9f51d",
   "outputs": [],
   "execution_count": null
  },
  {
   "metadata": {},
   "cell_type": "code",
   "source": [
    "# First, let's just compare successful runs and failed runs in a binary table\n",
    "# We also need to extract dimmults and zchannels\n",
    "# e.g. vae_v103_run_07_dimmults12488_zchannels4\n",
    "\n",
    "def extract_interface_representation(name):\n",
    "    return name.split('_')[-1][23:]\n",
    "\n",
    "def extract_dim(name):\n",
    "    return int(name.split('_')[-2][3:])\n",
    "\n",
    "def extract_dimmults(name):\n",
    "    return int(name.split('_')[-2][8:])\n",
    "\n",
    "def extract_z_channels(name):\n",
    "    return int(name.split('_')[-1][9:])\n",
    "\n",
    "def extract_batch_size(name):\n",
    "    return int(name.split('_')[-1][9:])\n",
    "\n",
    "def extract_patch_size(name):\n",
    "    return int(name.split('_')[-3][-2:])\n",
    "\n",
    "def read_compression_ratio(outdir):\n",
    "    # run_info.json contains: {\"latent_num_pixels\": 32768, \"physical_num_pixels\": 32768, \"compression_ratio\": 1.0}\n",
    "    run_info_path = outdir / 'run_info.json'\n",
    "    with open(run_info_path) as f:\n",
    "        run_info = json.load(f)\n",
    "    return run_info['compression_ratio']\n",
    "\n",
    "def parse_time_from_log_line(line: str):\n",
    "    # E.g. 2024-12-19 01:12:34,403 - conv_ae_3d.trainer_vae - INFO: [Accelerate device cuda:0] Training complete!\n",
    "    parts = line.split()\n",
    "    time_str = parts[0] + ' ' + parts[1]\n",
    "    time_obj = pd.to_datetime(time_str)\n",
    "    return time_obj\n",
    "\n",
    "def extract_wall_time(outdir):\n",
    "    output_log_path = outdir / 'output.log'\n",
    "    with open(output_log_path) as f:\n",
    "        lines = f.readlines()\n",
    "        first_line = lines[0]\n",
    "        last_line = lines[-1]\n",
    "        start_datetime = parse_time_from_log_line(first_line)\n",
    "        end_datetime = parse_time_from_log_line(last_line)\n",
    "\n",
    "        run_time_hrs = (end_datetime - start_datetime).total_seconds() / 3600\n",
    "\n",
    "    return run_time_hrs\n",
    "\n",
    "success_rows = []\n",
    "for f in files:\n",
    "    dim = extract_dim(f.name)\n",
    "    interface_rep = extract_interface_representation(f.name)\n",
    "    wall_time = extract_wall_time(f)\n",
    "    success_rows.append(\n",
    "        {\n",
    "            'Name': f.name,\n",
    "            'dim': dim,\n",
    "            'interface_rep': interface_rep,\n",
    "            'wall time (hrs)': wall_time,\n",
    "            'Success': f.name in name_to_loss\n",
    "        }\n",
    "    )\n",
    "\n",
    "df = pd.DataFrame(success_rows)\n",
    "df\n",
    "    "
   ],
   "id": "b6eceeebb43e7530",
   "outputs": [],
   "execution_count": null
  },
  {
   "metadata": {},
   "cell_type": "code",
   "source": [
    "# Plot all loss curves on one big axis\n",
    "fig, ax = plt.subplots(figsize=(18, 18))\n",
    "loss_component = 'Total'\n",
    "for name, loss in name_to_loss.items():\n",
    "    ax.plot(loss[loss_component], label=name)\n",
    "    \n",
    "    # Annotate name on the end of the curve\n",
    "    ax.text(len(loss[loss_component]), loss[loss_component][-1], name)\n",
    "ax.legend()\n",
    "ax.set_yscale('log')\n",
    "plt.show()"
   ],
   "id": "cadd9153ee994bbe",
   "outputs": [],
   "execution_count": null
  },
  {
   "metadata": {},
   "cell_type": "code",
   "source": "#",
   "id": "aadf9454ddfa2312",
   "outputs": [],
   "execution_count": null
  },
  {
   "metadata": {},
   "cell_type": "code",
   "source": "",
   "id": "3905559d9d8f527",
   "outputs": [],
   "execution_count": null
  },
  {
   "metadata": {},
   "cell_type": "code",
   "source": [
    "\n",
    "name_to_compression_ratio = {}\n",
    "for f in files:\n",
    "    try:\n",
    "        name_to_compression_ratio[f.name] = read_compression_ratio(f)\n",
    "    except:\n",
    "        print(f'Error reading {f.name}')\n",
    "        \n",
    "name_to_compression_ratio"
   ],
   "id": "4e9526fe08978162",
   "outputs": [],
   "execution_count": null
  },
  {
   "metadata": {},
   "cell_type": "code",
   "source": "",
   "id": "4873b5e502ad5e2a",
   "outputs": [],
   "execution_count": null
  },
  {
   "metadata": {},
   "cell_type": "code",
   "source": [
    "\n",
    "\n",
    "def read_metric_val(outdir):\n",
    "    metric_paths = list(outdir.glob('metrics/val_metrics_*.csv'))\n",
    "    metric_paths.sort(key=lambda x: int(x.stem.split('_')[-1]))\n",
    "    metric_path = metric_paths[-1]\n",
    "    \n",
    "    print(f'Reading {metric_path}')\n",
    "    \n",
    "    df = pd.read_csv(metric_path)\n",
    "    df = df.mean()\n",
    "    return df['MSE']\n",
    "\n",
    "name_to_val = {}\n",
    "for f in sorted(files):\n",
    "    try:\n",
    "        name_to_val[f.name] = read_metric_val(f)\n",
    "    except:\n",
    "        print(f'Error reading {f.name}')\n",
    "        \n",
    "xs = name_to_val.keys()\n",
    "ys = name_to_val.values()\n",
    "\n",
    "# Sort by value\n",
    "name_to_val = dict(sorted(name_to_val.items(), key=lambda x: x[1]))\n",
    "\n",
    "plt.figure(figsize=(10, 5))\n",
    "plt.bar(name_to_val.keys(), name_to_val.values())\n",
    "plt.xticks(rotation=90)\n",
    "plt.yscale('log')\n",
    "plt.show()\n"
   ],
   "id": "9e3dc1c48bb7b141",
   "outputs": [],
   "execution_count": null
  },
  {
   "metadata": {},
   "cell_type": "code",
   "source": "",
   "id": "1af51bd75e6719a0",
   "outputs": [],
   "execution_count": null
  },
  {
   "metadata": {},
   "cell_type": "code",
   "source": "",
   "id": "1eb5298372e58993",
   "outputs": [],
   "execution_count": null
  },
  {
   "metadata": {},
   "cell_type": "code",
   "source": [
    "# Scatter plot of validation MSE vs compression ratio\n",
    "\n",
    "name_to_val"
   ],
   "id": "477c4604bbf6877b",
   "outputs": [],
   "execution_count": null
  },
  {
   "metadata": {},
   "cell_type": "code",
   "source": [
    "crs = []\n",
    "for name in name_to_val.keys():\n",
    "    crs.append(name_to_compression_ratio[name])\n",
    "    \n",
    "# Scatter compression ratio vs validation MSE\n",
    "plt.figure(figsize=(10, 5))\n",
    "plt.scatter(crs, name_to_val.values())\n",
    "plt.xlabel('Compression ratio')\n",
    "plt.ylabel('Validation MSE')\n",
    "plt.xscale('log')\n",
    "plt.yscale('log')\n",
    "ax = plt.gca()\n",
    "ax.spines['top'].set_visible(False)\n",
    "ax.spines['right'].set_visible(False)\n",
    "plt.show()\n"
   ],
   "id": "2e94cc1246dffbee",
   "outputs": [],
   "execution_count": null
  },
  {
   "metadata": {},
   "cell_type": "code",
   "source": "",
   "id": "db600c38755ebcd5",
   "outputs": [],
   "execution_count": null
  },
  {
   "metadata": {},
   "cell_type": "code",
   "source": "",
   "id": "5411560ebdb23b53",
   "outputs": [],
   "execution_count": null
  },
  {
   "metadata": {},
   "cell_type": "code",
   "source": [
    "\n",
    "def image_path(outdir, i = 0):\n",
    "    return outdir / 'final_val_samples_unnormalised' / f'final_{i}_slice.png'\n"
   ],
   "id": "cc55ad4898575ef8",
   "outputs": [],
   "execution_count": null
  },
  {
   "metadata": {},
   "cell_type": "code",
   "source": [
    "import math\n",
    "\n",
    "# Create single plot comparing all the final validation images, no osrting\n",
    "\n",
    "def reconstructed_image_comparison_plot(val_ind: int = 0):\n",
    "    \n",
    "    im_paths = []\n",
    "    for f in files:\n",
    "        im_path = image_path(f, val_ind)\n",
    "        if im_path.exists():\n",
    "            im_paths.append(im_path)\n",
    "\n",
    "    plt.figure(figsize=(20, 20))\n",
    "    ims_per_row = 4\n",
    "    num_ims = len(im_paths)\n",
    "    num_rows = math.ceil(num_ims / ims_per_row)\n",
    "    \n",
    "    fig, axs = plt.subplots(num_rows, 4, figsize=(20, 5 * num_rows), dpi=200)\n",
    "    \n",
    "    for i, im_path in enumerate(im_paths):\n",
    "        im = plt.imread(im_path)[800:, :800]\n",
    "        row = i // ims_per_row\n",
    "        col = i % ims_per_row\n",
    "        axs[row, col].imshow(im)\n",
    "        axs[row, col].axis('off')\n",
    "        axs[row, col].set_title(im_path.parent.parent.name)\n",
    "    \n",
    "    fig.tight_layout()\n",
    "    plt.show()\n"
   ],
   "id": "11ccd6e33e3c698e",
   "outputs": [],
   "execution_count": null
  },
  {
   "metadata": {},
   "cell_type": "code",
   "source": "reconstructed_image_comparison_plot(0)",
   "id": "1896af275f0b4a19",
   "outputs": [],
   "execution_count": null
  },
  {
   "metadata": {},
   "cell_type": "code",
   "source": "reconstructed_image_comparison_plot(1)",
   "id": "c0ed128724ac9326",
   "outputs": [],
   "execution_count": null
  },
  {
   "metadata": {},
   "cell_type": "code",
   "source": "reconstructed_image_comparison_plot(7)",
   "id": "6e5fdc43b9cbd79f",
   "outputs": [],
   "execution_count": null
  },
  {
   "metadata": {},
   "cell_type": "code",
   "source": "",
   "id": "41d9e5e09058680",
   "outputs": [],
   "execution_count": null
  },
  {
   "metadata": {},
   "cell_type": "code",
   "source": [
    "# Show some of the png images in the final_val_samples_unnormalised folder for each run so we can compare side by side\n",
    "\n",
    "\n",
    "\n",
    "for f in files:\n",
    "    print(f.name)\n",
    "    \n",
    "    im_path = image_path(f)\n",
    "    \n",
    "    if im_path.exists():\n",
    "        im = plt.imread(im_path)\n",
    "        plt.figure(figsize=(8, 8), dpi=200)\n",
    "        plt.imshow(im)\n",
    "        plt.axis('off')\n",
    "        plt.show()\n",
    "        plt.close()\n",
    "\n"
   ],
   "id": "6bbc14dd747f63c2",
   "outputs": [],
   "execution_count": null
  },
  {
   "metadata": {},
   "cell_type": "code",
   "source": "",
   "id": "e86a006e7d23d36e",
   "outputs": [],
   "execution_count": null
  }
 ],
 "metadata": {
  "kernelspec": {
   "display_name": "Python 3",
   "language": "python",
   "name": "python3"
  },
  "language_info": {
   "codemirror_mode": {
    "name": "ipython",
    "version": 2
   },
   "file_extension": ".py",
   "mimetype": "text/x-python",
   "name": "python",
   "nbconvert_exporter": "python",
   "pygments_lexer": "ipython2",
   "version": "2.7.6"
  }
 },
 "nbformat": 4,
 "nbformat_minor": 5
}
