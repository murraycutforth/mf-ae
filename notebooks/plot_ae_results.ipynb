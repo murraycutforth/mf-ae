{
 "cells": [
  {
   "cell_type": "code",
   "id": "initial_id",
   "metadata": {
    "collapsed": true
   },
   "source": [
    "from pathlib import Path\n",
    "\n",
    "import matplotlib.pyplot as plt\n",
    "import pandas as pd\n",
    "import numpy as np\n",
    "\n",
    "from conv_ae_3d.metrics import dice_coefficient\n",
    "from src.plotting_utils import write_isosurface_plot_from_arr\n",
    "from src.evaluation.extract_num_components import compute_num_components, compute_surface_area_volume_ratio"
   ],
   "outputs": [],
   "execution_count": null
  },
  {
   "cell_type": "code",
   "source": [
    "# Conv AEs"
   ],
   "metadata": {
    "collapsed": false
   },
   "id": "121b95e99fc2e4b7",
   "outputs": [],
   "execution_count": null
  },
  {
   "cell_type": "code",
   "source": [
    "run_base_dir = Path('/Volumes/My Passport for Mac/mf-ae/mf-ae-output')\n",
    "run_dirs = [run_base_dir / f'eval_v4_{i}' for i in range(3)]\n",
    "\n",
    "list(map(lambda x: x.exists(), run_dirs))"
   ],
   "metadata": {
    "collapsed": false
   },
   "id": "71e58e1c067ec563",
   "outputs": [],
   "execution_count": null
  },
  {
   "cell_type": "code",
   "source": [
    "def plot_metrics_vs_latent_dim(run_dirs, epoch, xs, metrics):\n",
    "    fig, axs = plt.subplots(1, len(metrics), figsize=(3*len(metrics), 3), dpi=200)\n",
    "    \n",
    "    xs = 1.0 / (np.array(xs) / 256**3)\n",
    "    \n",
    "    for i, metric in enumerate(metrics):\n",
    "        \n",
    "        ys = []\n",
    "        ymins_95 = []\n",
    "        ymaxs_95 = []\n",
    "    \n",
    "        for run_dir in run_dirs:\n",
    "            metric_path = run_dir / 'metrics' / f'val_metrics_{epoch}.csv'\n",
    "            metric_df = pd.read_csv(metric_path)\n",
    "            ys.append(metric_df.mean()[metric])\n",
    "            ymins_95.append(np.quantile(metric_df[metric], 0.05))\n",
    "            ymaxs_95.append(np.quantile(metric_df[metric], 0.95))\n",
    "            \n",
    "        axs[i].plot(xs, ys, 'o-', label='mean')\n",
    "        axs[i].fill_between(xs, ymins_95, ymaxs_95, alpha=0.3, label='95% CI')\n",
    "        axs[i].set_xlabel('Compression ratio')\n",
    "        axs[i].set_title(metric)\n",
    "        axs[i].set_xscale('log')\n",
    "        \n",
    "    axs[0].legend()\n",
    "        \n",
    "    fig.tight_layout()\n",
    "    plt.show()\n",
    "    \n"
   ],
   "metadata": {
    "collapsed": false
   },
   "id": "7c6cdb31f4ef5531",
   "outputs": [],
   "execution_count": null
  },
  {
   "cell_type": "code",
   "source": [],
   "metadata": {
    "collapsed": false
   },
   "id": "64a82fbc9ad60322",
   "outputs": [],
   "execution_count": null
  },
  {
   "cell_type": "code",
   "source": [
    "def plot_losses(run_dirs, bottleneck_sizes):\n",
    "    fig, ax = plt.subplots(1, 1, figsize=(3, 3), dpi=200)\n",
    "    \n",
    "    for run_dir, bs in zip(run_dirs, bottleneck_sizes):\n",
    "        loss_path = run_dir / 'loss_history.json'\n",
    "        loss_df = pd.read_json(loss_path)\n",
    "        ax.plot(loss_df.index, loss_df.iloc[:, 0], label=f'{bs}')\n",
    "        \n",
    "    ax.legend()\n",
    "    ax.set_yscale('log')\n",
    "    ax.set_xlabel('epoch')\n",
    "    ax.set_ylabel('loss')\n",
    "    fig.tight_layout()\n",
    "    plt.show()\n",
    "    "
   ],
   "metadata": {
    "collapsed": false
   },
   "id": "407dc7d46fb7a6e4",
   "outputs": [],
   "execution_count": null
  },
  {
   "cell_type": "code",
   "source": [
    "# TODO - write out isosurface plots for v3_3 data next\n",
    "\n",
    "def write_isosurface_plots(run_dir):\n",
    "    results_folder = run_dir / 'final_val_predictions'\n",
    "    filepaths = list(results_folder.glob('*.npz'))\n",
    "    \n",
    "    assert len(filepaths) > 0, f\"No files found in {results_folder}\"\n",
    "    \n",
    "    for filepath in filepaths[:25]:\n",
    "        data = np.load(filepath)\n",
    "        data, pred = data['data'], data['pred']\n",
    "        \n",
    "        isosurface_folder = results_folder / \"isosurface_plots\"\n",
    "        isosurface_folder.mkdir(exist_ok=True)\n",
    "        \n",
    "        write_isosurface_plot_from_arr(data,\n",
    "                                       outname=isosurface_folder / f\"{filepath.stem}_original.png\",\n",
    "                                       level=0.5,\n",
    "                                       dx=256,\n",
    "                                       verbose=True)\n",
    "        \n",
    "        write_isosurface_plot_from_arr(pred,\n",
    "                                       outname=isosurface_folder / f\"{filepath.stem}_reconstructed.png\",\n",
    "                                       level=0.5,\n",
    "                                        dx=256,\n",
    "                                       verbose=True)\n"
   ],
   "metadata": {
    "collapsed": false
   },
   "id": "667da33a5840f678",
   "outputs": [],
   "execution_count": null
  },
  {
   "cell_type": "code",
   "source": [
    "def plot_metric_vs_num_components(run_dir):\n",
    "    # For each metric, on each validation case, extract the number of components and the metric value, then plot average metric value vs number of components\n",
    "    # Only plot a single metric\n",
    "    # run_dir has the results for a single bottleneck size\n",
    "    \n",
    "    results_folder = run_dir / 'final_val_predictions'\n",
    "    filepaths = list(results_folder.glob('*.npz'))\n",
    "    num_components = []\n",
    "    sigmas = []\n",
    "    dice_vals = []\n",
    "\n",
    "    assert len(filepaths) > 0, f\"No files found in {results_folder}\"\n",
    "\n",
    "    for filepath in filepaths:\n",
    "        data = np.load(filepath)\n",
    "        data, pred = data['data'], data['pred']\n",
    "        \n",
    "        num_components.append(compute_num_components(data))\n",
    "        sigmas.append(compute_surface_area_volume_ratio(data))\n",
    "        dice_vals.append(dice_coefficient(data, pred))\n",
    "        \n",
    "        \n",
    "    fig, axs = plt.subplots(1, 2, figsize=(6, 3), dpi=200)\n",
    "    \n",
    "    ax = axs[0]\n",
    "    ax.set_xlabel('Num components')\n",
    "    ax.set_ylabel('Dice')\n",
    "    ax.scatter(num_components, dice_vals)\n",
    "    \n",
    "    ax = axs[1]\n",
    "    ax.set_xlabel('Surface area to volume ratio')\n",
    "    ax.set_ylabel('Dice coefficient')\n",
    "    ax.scatter(sigmas, dice_vals, alpha=0.5)\n",
    "    \n",
    "    ax.spines['top'].set_visible(False)\n",
    "    ax.spines['right'].set_visible(False)\n",
    "    \n",
    "    fig.tight_layout()\n",
    "    plt.show()\n",
    "\n",
    "\n"
   ],
   "metadata": {
    "collapsed": false
   },
   "id": "cb20abd562ba6fc1",
   "outputs": [],
   "execution_count": null
  },
  {
   "metadata": {},
   "cell_type": "code",
   "source": [
    "# Use latex for plots\n",
    "plt.rcParams.update({\n",
    "    \"text.usetex\": True,\n",
    "    \"font.family\": \"serif\",\n",
    "    \"font.serif\": [\"Computer Modern\"],\n",
    "    \"font.size\": 12\n",
    "})\n",
    "\n",
    "# Test plot\n",
    "\n",
    "plt.plot([1, 2, 3], [1, 2, 3])\n",
    "plt.xlabel(r\"$\\alpha$\")\n",
    "plt.title(r\"$\\beta$\")\n",
    "plt.show()"
   ],
   "id": "a65742c1ed2f9586",
   "outputs": [],
   "execution_count": null
  },
  {
   "metadata": {},
   "cell_type": "code",
   "source": [
    "\n",
    "bottleneck_sizes = [131000, 32768, 8192]\n",
    "plot_metrics_vs_latent_dim(run_dirs, 50, bottleneck_sizes, ['MSE', 'MAE', 'LINF', 'DICE', 'HAUSDORFF'])\n",
    "plot_metrics_vs_latent_dim(run_dirs, 50, bottleneck_sizes, ['DICE'])\n",
    "\n"
   ],
   "id": "5ed831a64bf231e6",
   "outputs": [],
   "execution_count": null
  },
  {
   "cell_type": "code",
   "source": [
    "# Run for all conv AEs\n",
    "\n",
    "for run_dir in run_dirs:\n",
    "    #write_isosurface_plots(run_dir)\n",
    "    plot_metric_vs_num_components(run_dir)\n"
   ],
   "metadata": {
    "collapsed": false
   },
   "id": "1eed471bb463c8ff",
   "outputs": [],
   "execution_count": null
  },
  {
   "cell_type": "code",
   "source": [],
   "metadata": {
    "collapsed": false
   },
   "id": "30869fbcc99b0b2d",
   "outputs": [],
   "execution_count": null
  },
  {
   "cell_type": "code",
   "source": [
    "# Now repeat all plots for linear bottlenecks\n",
    "\n",
    "run_base_dir = Path('/Users/murray/Projects/multphase_flow_encoder/multiphase_flow_encoder/output/lassen/mf-ae-output')\n",
    "run_dirs = [run_base_dir / f'eval_v4_{i}' for i in range(3, 6)]\n",
    "\n",
    "list(map(lambda x: x.exists(), run_dirs))"
   ],
   "metadata": {
    "collapsed": false
   },
   "id": "9036f46983249cfa",
   "outputs": [],
   "execution_count": null
  },
  {
   "cell_type": "code",
   "source": [
    "bottleneck_sizes = [800, 400, 100]\n",
    "plot_metrics_vs_latent_dim(run_dirs, 50, bottleneck_sizes, ['MSE', 'MAE', 'LINF', 'DICE', 'HAUSDORFF'])\n",
    "\n",
    "for run_dir in run_dirs:\n",
    "    write_isosurface_plots(run_dir)\n",
    "    plot_metric_vs_num_components(run_dir)"
   ],
   "metadata": {
    "collapsed": false
   },
   "id": "d6bf2a4da315ee28",
   "outputs": [],
   "execution_count": null
  },
  {
   "cell_type": "code",
   "source": [],
   "metadata": {
    "collapsed": false
   },
   "id": "dfe48b4bc334158f",
   "outputs": [],
   "execution_count": null
  },
  {
   "cell_type": "code",
   "source": [],
   "metadata": {
    "collapsed": false
   },
   "id": "e74f67ec48f483c5",
   "outputs": [],
   "execution_count": null
  },
  {
   "cell_type": "code",
   "source": [],
   "metadata": {
    "collapsed": false
   },
   "id": "d3b26bb6d92cb9c8",
   "outputs": [],
   "execution_count": null
  }
 ],
 "metadata": {
  "kernelspec": {
   "display_name": "Python 3",
   "language": "python",
   "name": "python3"
  },
  "language_info": {
   "codemirror_mode": {
    "name": "ipython",
    "version": 2
   },
   "file_extension": ".py",
   "mimetype": "text/x-python",
   "name": "python",
   "nbconvert_exporter": "python",
   "pygments_lexer": "ipython2",
   "version": "2.7.6"
  }
 },
 "nbformat": 4,
 "nbformat_minor": 5
}
