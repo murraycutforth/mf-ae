{
 "cells": [
  {
   "cell_type": "code",
   "id": "initial_id",
   "metadata": {
    "collapsed": true
   },
   "source": [
    "import matplotlib.pyplot as plt\n",
    "import pandas as pd\n",
    "import matplotlib.cm as cm\n",
    "\n",
    "def plot_metrics(df):\n",
    "    # Set up the figure and axes\n",
    "    fig, axs = plt.subplots(1, 3, figsize=(8, 2.5), dpi=200, sharex=True)\n",
    "\n",
    "    # Define the metrics to plot\n",
    "    metrics = ['dice', 'rel_vol_error', 'hausdorff']\n",
    "    y_labels = ['Dice Coefficient ($\\\\uparrow$)', 'Rel. Volume Error ($\\\\downarrow$)', 'Hausdorff Distance ($\\\\downarrow$)']\n",
    "\n",
    "    # Define the colors and styles\n",
    "    unique_epsilons = sorted(df['epsilon'].unique())\n",
    "\n",
    "    # Drop nan from unique_epsilons\n",
    "    unique_epsilons = [x for x in unique_epsilons if x == x]\n",
    "\n",
    "    colormap = cm.get_cmap('viridis', len(unique_epsilons))\n",
    "    epsilon_to_color = {epsilon: colormap(i) for i, epsilon in enumerate(unique_epsilons)}\n",
    "    linestyle_dict = {\n",
    "        'HEAVISIDE': 'dashed',\n",
    "        'SIGNED_DISTANCE_EXACT': 'dashed',\n",
    "        'SIGNED_DISTANCE_APPROXIMATE': 'dashed',\n",
    "        'TANH_EPSILON': 'solid'\n",
    "    }\n",
    "\n",
    "    # Plot each metric\n",
    "    for i, metric in enumerate(metrics):\n",
    "        for interface_type in df['interface_type'].unique():\n",
    "            subset = df[df['interface_type'] == interface_type].sort_values(by='mu')\n",
    "            if 'TANH' in interface_type:\n",
    "                for epsilon in sorted(subset['epsilon'].unique()):\n",
    "                    epsilon_subset = subset[subset['epsilon'] == epsilon]\n",
    "                    mean_values = epsilon_subset.groupby('mu')[metric].mean()\n",
    "                    label = f'Tanh 1/{1/epsilon:.0f}' if epsilon else 'tanh'\n",
    "                    axs[i].plot(mean_values.index, mean_values.values, label=label, color=epsilon_to_color[epsilon], linestyle=linestyle_dict[interface_type], marker='o')\n",
    "            else:\n",
    "                mean_values = subset.groupby('mu')[metric].mean()\n",
    "                label = 'Sharp' if interface_type == 'HEAVISIDE' else 'SDF'\n",
    "                axs[i].plot(mean_values.index, mean_values.values, label=label, linestyle=linestyle_dict[interface_type], marker='o')\n",
    "\n",
    "        axs[i].set_xlabel('$\\\\mu$')\n",
    "        axs[i].set_ylabel(y_labels[i])\n",
    "        axs[i].spines['top'].set_visible(False)\n",
    "        axs[i].spines['right'].set_visible(False)\n",
    "\n",
    "    axs[0].set_ylim(0.6, 1)\n",
    "    axs[1].set_ylim(0, 0.25)\n",
    "\n",
    "    # Add a legend outside the plot\n",
    "    handles, labels = axs[0].get_legend_handles_labels()\n",
    "    fig.legend(handles, labels, loc='center left', bbox_to_anchor=(1, 0.5))\n",
    "\n",
    "    plt.tight_layout()\n",
    "    plt.savefig('figures/fig_07.png')\n",
    "    plt.show()\n",
    "\n",
    "df = pd.read_csv('evaluation_results_2.csv')\n",
    "plot_metrics(df)"
   ],
   "outputs": [],
   "execution_count": null
  },
  {
   "metadata": {},
   "cell_type": "code",
   "source": "",
   "id": "87a94ad46ad284d1",
   "outputs": [],
   "execution_count": null
  }
 ],
 "metadata": {
  "kernelspec": {
   "display_name": "Python 3",
   "language": "python",
   "name": "python3"
  },
  "language_info": {
   "codemirror_mode": {
    "name": "ipython",
    "version": 2
   },
   "file_extension": ".py",
   "mimetype": "text/x-python",
   "name": "python",
   "nbconvert_exporter": "python",
   "pygments_lexer": "ipython2",
   "version": "2.7.6"
  }
 },
 "nbformat": 4,
 "nbformat_minor": 5
}
