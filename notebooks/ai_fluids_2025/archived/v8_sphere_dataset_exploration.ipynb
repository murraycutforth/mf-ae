{
 "cells": [
  {
   "metadata": {
    "ExecuteTime": {
     "end_time": "2025-02-04T03:05:54.074719Z",
     "start_time": "2025-02-04T03:05:54.073220Z"
    }
   },
   "cell_type": "code",
   "source": "",
   "id": "33239e6ab399949e",
   "outputs": [],
   "execution_count": null
  },
  {
   "metadata": {
    "ExecuteTime": {
     "end_time": "2025-02-04T03:05:55.042278Z",
     "start_time": "2025-02-04T03:05:54.079218Z"
    }
   },
   "cell_type": "code",
   "source": [
    "import numpy as np\n",
    "import matplotlib.pyplot as plt\n",
    "import logging\n",
    "from pathlib import Path\n",
    "\n",
    "from src.paths import project_dir\n",
    "from src.datasets.spheres_dataset import SpheresDataset\n",
    "from src.preprocessing.main_create_v8_spheres_dataset import interface_type_generator\n",
    "from src.interface_representation.interface_types import InterfaceType\n",
    "\n",
    "logging.basicConfig(level=logging.INFO)"
   ],
   "id": "43e04789b6752bcc",
   "outputs": [],
   "execution_count": 1
  },
  {
   "metadata": {
    "ExecuteTime": {
     "end_time": "2025-02-04T03:05:55.091008Z",
     "start_time": "2025-02-04T03:05:55.089549Z"
    }
   },
   "cell_type": "code",
   "source": "base_dir = Path('../../../src/preprocessing')",
   "id": "516a940d13798aa1",
   "outputs": [],
   "execution_count": 2
  },
  {
   "metadata": {
    "ExecuteTime": {
     "end_time": "2025-02-04T03:05:55.191844Z",
     "start_time": "2025-02-04T03:05:55.095007Z"
    }
   },
   "cell_type": "code",
   "source": [
    "interface_types = [\n",
    "        InterfaceType.SIGNED_DISTANCE_EXACT,\n",
    "        InterfaceType.SIGNED_DISTANCE_APPROXIMATE,\n",
    "        InterfaceType.HEAVISIDE,\n",
    "        InterfaceType.TANH_EPSILON,\n",
    "    ]\n",
    "\n",
    "epsilons = [1/128, 1/64, 1/32, 1/16]\n",
    "\n",
    "datasets = []\n",
    "\n",
    "for interface_type, epsilon, outdir in interface_type_generator(interface_types, epsilons):\n",
    "    datasets.append(SpheresDataset(base_dir / outdir, split='val', debug=False))"
   ],
   "id": "8564b883f334056",
   "outputs": [
    {
     "ename": "AssertionError",
     "evalue": "No .npz files found in ../../src/preprocessing/data/v8_spheres/SIGNED_DISTANCE_EXACT",
     "output_type": "error",
     "traceback": [
      "\u001B[0;31m---------------------------------------------------------------------------\u001B[0m",
      "\u001B[0;31mAssertionError\u001B[0m                            Traceback (most recent call last)",
      "Cell \u001B[0;32mIn[3], line 13\u001B[0m\n\u001B[1;32m     10\u001B[0m datasets \u001B[38;5;241m=\u001B[39m []\n\u001B[1;32m     12\u001B[0m \u001B[38;5;28;01mfor\u001B[39;00m interface_type, epsilon, outdir \u001B[38;5;129;01min\u001B[39;00m interface_type_generator(interface_types, epsilons):\n\u001B[0;32m---> 13\u001B[0m     datasets\u001B[38;5;241m.\u001B[39mappend(\u001B[43mSpheresDataset\u001B[49m\u001B[43m(\u001B[49m\u001B[43mbase_dir\u001B[49m\u001B[43m \u001B[49m\u001B[38;5;241;43m/\u001B[39;49m\u001B[43m \u001B[49m\u001B[43moutdir\u001B[49m\u001B[43m,\u001B[49m\u001B[43m \u001B[49m\u001B[43msplit\u001B[49m\u001B[38;5;241;43m=\u001B[39;49m\u001B[38;5;124;43m'\u001B[39;49m\u001B[38;5;124;43mval\u001B[39;49m\u001B[38;5;124;43m'\u001B[39;49m\u001B[43m,\u001B[49m\u001B[43m \u001B[49m\u001B[43mdebug\u001B[49m\u001B[38;5;241;43m=\u001B[39;49m\u001B[38;5;28;43;01mFalse\u001B[39;49;00m\u001B[43m)\u001B[49m)\n",
      "File \u001B[0;32m~/Projects/multphase_flow_encoder/multiphase_flow_encoder/src/datasets/spheres_dataset.py:34\u001B[0m, in \u001B[0;36mSpheresDataset.__init__\u001B[0;34m(self, data_dir, split, debug)\u001B[0m\n\u001B[1;32m     32\u001B[0m \u001B[38;5;66;03m# Find all .npz filenames in this dir\u001B[39;00m\n\u001B[1;32m     33\u001B[0m \u001B[38;5;28mself\u001B[39m\u001B[38;5;241m.\u001B[39mfilenames \u001B[38;5;241m=\u001B[39m \u001B[38;5;28mlist\u001B[39m(\u001B[38;5;28mself\u001B[39m\u001B[38;5;241m.\u001B[39mdata_dir\u001B[38;5;241m.\u001B[39mglob(\u001B[38;5;124m\"\u001B[39m\u001B[38;5;124m*.npz\u001B[39m\u001B[38;5;124m\"\u001B[39m))\n\u001B[0;32m---> 34\u001B[0m \u001B[38;5;28;01massert\u001B[39;00m \u001B[38;5;28mlen\u001B[39m(\u001B[38;5;28mself\u001B[39m\u001B[38;5;241m.\u001B[39mfilenames) \u001B[38;5;241m>\u001B[39m \u001B[38;5;241m0\u001B[39m, \u001B[38;5;124mf\u001B[39m\u001B[38;5;124m'\u001B[39m\u001B[38;5;124mNo .npz files found in \u001B[39m\u001B[38;5;132;01m{\u001B[39;00m\u001B[38;5;28mself\u001B[39m\u001B[38;5;241m.\u001B[39mdata_dir\u001B[38;5;132;01m}\u001B[39;00m\u001B[38;5;124m'\u001B[39m\n\u001B[1;32m     36\u001B[0m \u001B[38;5;66;03m# Split the filenames into train, val, test\u001B[39;00m\n\u001B[1;32m     37\u001B[0m np\u001B[38;5;241m.\u001B[39mrandom\u001B[38;5;241m.\u001B[39mseed(\u001B[38;5;241m42\u001B[39m)\n",
      "\u001B[0;31mAssertionError\u001B[0m: No .npz files found in ../../src/preprocessing/data/v8_spheres/SIGNED_DISTANCE_EXACT"
     ]
    }
   ],
   "execution_count": 3
  },
  {
   "metadata": {},
   "cell_type": "code",
   "source": "",
   "id": "d383c3b34c93de6f",
   "outputs": [],
   "execution_count": null
  },
  {
   "metadata": {
    "ExecuteTime": {
     "end_time": "2025-02-04T03:05:58.183186Z",
     "start_time": "2025-02-04T03:05:58.180411Z"
    }
   },
   "cell_type": "code",
   "source": [
    "# First, check that all datasets have same length\n",
    "lengths = [len(dataset) for dataset in datasets]\n",
    "assert all(length == lengths[0] for length in lengths)"
   ],
   "id": "5ac69339f7baae5f",
   "outputs": [],
   "execution_count": 4
  },
  {
   "metadata": {
    "ExecuteTime": {
     "end_time": "2025-02-04T06:11:53.989496Z",
     "start_time": "2025-02-04T06:11:53.983202Z"
    }
   },
   "cell_type": "code",
   "source": [
    "\n",
    "def visualise_dataset_sample(arr, title=None):\n",
    "    arr = arr.squeeze()\n",
    "\n",
    "    fig, axs = plt.subplots(1, 3, figsize=(9, 3))\n",
    "    im = axs[0].imshow(arr[32, :, :])\n",
    "    fig.colorbar(im, ax=axs[0])\n",
    "    im = axs[1].imshow(arr[:, 32, :])\n",
    "    fig.colorbar(im, ax=axs[1])\n",
    "    im = axs[2].imshow(arr[:, :, 32])\n",
    "    fig.colorbar(im, ax=axs[2])\n",
    "    if title is not None:\n",
    "        plt.suptitle(title)\n",
    "\n",
    "    fig.tight_layout()\n",
    "    plt.show()\n",
    "    plt.close()\n"
   ],
   "id": "906f8e7e78ce44fa",
   "outputs": [],
   "execution_count": 9
  },
  {
   "metadata": {
    "ExecuteTime": {
     "end_time": "2025-02-04T06:12:00.358559Z",
     "start_time": "2025-02-04T06:12:00.355563Z"
    }
   },
   "cell_type": "code",
   "source": [
    "# Visualise first sample from each dataset\n",
    "\n",
    "for dataset, interface_type in zip(datasets, interface_type_generator(interface_types, epsilons)):\n",
    "    visualise_dataset_sample(dataset[2], title=interface_type[0])\n"
   ],
   "id": "ead0101c7a98d6d2",
   "outputs": [],
   "execution_count": 10
  },
  {
   "metadata": {},
   "cell_type": "code",
   "source": "",
   "id": "1daf6e78b2428714",
   "outputs": [],
   "execution_count": null
  },
  {
   "metadata": {},
   "cell_type": "code",
   "source": [
    "# Visualise 3D reconstruction of first sample from each dataset\n",
    "\n",
    "from src.plotting_utils import show_isosurface_plot_from_arr\n",
    "\n",
    "for dataset, interface_type in zip(datasets, interface_type_generator(interface_types, epsilons)):\n",
    "    if interface_type[0] is InterfaceType.SIGNED_DISTANCE_APPROXIMATE:\n",
    "        level = 0.0\n",
    "    elif interface_type[0] is InterfaceType.SIGNED_DISTANCE_EXACT:\n",
    "        level = 0.0\n",
    "    else:\n",
    "        level = 0.5\n",
    "    show_isosurface_plot_from_arr(dataset[0].squeeze().numpy(), level=level, N=64, verbose=False)\n",
    "    "
   ],
   "id": "52d63a2cfb48907b",
   "outputs": [],
   "execution_count": null
  },
  {
   "metadata": {},
   "cell_type": "code",
   "source": "",
   "id": "6416ddff6ddafa98",
   "outputs": [],
   "execution_count": null
  },
  {
   "metadata": {},
   "cell_type": "code",
   "source": [
    "def visualise_grad_magnitude(arr):\n",
    "    dx = 1 / 64\n",
    "    arr = arr.squeeze()\n",
    "    grad = np.gradient(arr, dx)\n",
    "    grad_magnitude = np.sqrt(np.sum(np.square(grad), axis=0))\n",
    "\n",
    "    fig, axs = plt.subplots(1, 3, figsize=(9, 3))\n",
    "    im = axs[0].imshow(grad_magnitude[32, :, :])\n",
    "    fig.colorbar(im, ax=axs[0])\n",
    "    im = axs[1].imshow(grad_magnitude[:, 32, :])\n",
    "    fig.colorbar(im, ax=axs[1])\n",
    "    im = axs[2].imshow(grad_magnitude[:, :, 32])\n",
    "    fig.colorbar(im, ax=axs[2])\n",
    "    plt.show()\n",
    "    plt.close()\n",
    "    "
   ],
   "id": "fa0b4b45a7bf5f11",
   "outputs": [],
   "execution_count": null
  },
  {
   "metadata": {},
   "cell_type": "code",
   "source": [
    "# Visualise gradient magnitude of first sample from each dataset\n",
    "\n",
    "for dataset, interface_type in zip(datasets, interface_type_generator(interface_types, epsilons)):\n",
    "    print(interface_type[0])\n",
    "    visualise_grad_magnitude(dataset[0])\n"
   ],
   "id": "fc382560c5d7f21e",
   "outputs": [],
   "execution_count": null
  },
  {
   "metadata": {},
   "cell_type": "code",
   "source": "",
   "id": "b3b7ee22b31735c2",
   "outputs": [],
   "execution_count": null
  },
  {
   "metadata": {},
   "cell_type": "code",
   "source": [
    "# Get the volume fraction dataset and check the distribution of total occupied volume over samples\n",
    "\n",
    "it = InterfaceType.HEAVISIDE\n",
    "dataset = SpheresDataset(base_dir / interface_type_generator([it], [None]).__next__()[2], split='val', debug=False)\n",
    "\n",
    "vol_fracs = []\n",
    "\n",
    "for i in range(len(dataset)):\n",
    "    vol_fracs.append(np.sum(dataset[i].squeeze().numpy()) / dataset[i].numel())\n",
    "    \n",
    "plt.hist(vol_fracs, bins=20)"
   ],
   "id": "5a40919851461dab",
   "outputs": [],
   "execution_count": null
  },
  {
   "metadata": {},
   "cell_type": "code",
   "source": "",
   "id": "ce0830af74c97ca2",
   "outputs": [],
   "execution_count": null
  },
  {
   "metadata": {},
   "cell_type": "code",
   "source": "",
   "id": "9515e41fe59f546f",
   "outputs": [],
   "execution_count": null
  }
 ],
 "metadata": {
  "kernelspec": {
   "display_name": "Python 3",
   "language": "python",
   "name": "python3"
  },
  "language_info": {
   "codemirror_mode": {
    "name": "ipython",
    "version": 2
   },
   "file_extension": ".py",
   "mimetype": "text/x-python",
   "name": "python",
   "nbconvert_exporter": "python",
   "pygments_lexer": "ipython2",
   "version": "2.7.6"
  }
 },
 "nbformat": 4,
 "nbformat_minor": 5
}
