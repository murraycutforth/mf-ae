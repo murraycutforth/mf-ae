{
 "cells": [
  {
   "cell_type": "code",
   "id": "initial_id",
   "metadata": {
    "collapsed": true,
    "ExecuteTime": {
     "end_time": "2025-02-03T00:56:50.055718Z",
     "start_time": "2025-02-03T00:56:50.052991Z"
    }
   },
   "source": "# In this notebook, we will evaluate the results of the ellipse dataset training runs\n",
   "outputs": [],
   "execution_count": 1
  },
  {
   "metadata": {
    "ExecuteTime": {
     "end_time": "2025-02-03T00:56:50.606132Z",
     "start_time": "2025-02-03T00:56:50.058379Z"
    }
   },
   "cell_type": "code",
   "source": [
    "import numpy as np\n",
    "import matplotlib.pyplot as plt\n",
    "import pandas as pd\n",
    "import pathlib\n",
    "import json\n",
    "from scipy.spatial.distance import directed_hausdorff\n",
    "\n",
    "from sys import path\n",
    "path.append('./../..')\n",
    "\n",
    "base_output_dir = pathlib.Path('./../../output/lassen')\n",
    "files = list(base_output_dir.glob('interfacial_ae_v17_*'))\n",
    "len(files)\n"
   ],
   "id": "c36a42830400267e",
   "outputs": [
    {
     "data": {
      "text/plain": [
       "7"
      ]
     },
     "execution_count": 2,
     "metadata": {},
     "output_type": "execute_result"
    }
   ],
   "execution_count": 2
  },
  {
   "metadata": {
    "ExecuteTime": {
     "end_time": "2025-02-03T00:56:50.654560Z",
     "start_time": "2025-02-03T00:56:50.652192Z"
    }
   },
   "cell_type": "code",
   "source": "from src.interface_representation.interface_types import InterfaceType",
   "id": "6abd735a66b9f718",
   "outputs": [],
   "execution_count": 3
  },
  {
   "metadata": {
    "ExecuteTime": {
     "end_time": "2025-02-03T00:56:50.659672Z",
     "start_time": "2025-02-03T00:56:50.658512Z"
    }
   },
   "cell_type": "code",
   "source": "",
   "id": "a1a56b377ea3680e",
   "outputs": [],
   "execution_count": null
  },
  {
   "metadata": {
    "ExecuteTime": {
     "end_time": "2025-02-03T00:56:50.667272Z",
     "start_time": "2025-02-03T00:56:50.663022Z"
    }
   },
   "cell_type": "code",
   "source": [
    "def read_loss_curve_from_file(outdir):\n",
    "    loss_path = outdir / 'loss_history.json'\n",
    "    with open(loss_path) as f:\n",
    "        loss_curve = json.load(f)\n",
    "    return loss_curve\n",
    "\n",
    "def load_preds(outdir):\n",
    "    pred_path = outdir / 'preds_100.npz'\n",
    "    preds = np.load(pred_path)['preds']\n",
    "    return preds\n",
    "\n",
    "def load_gt(outdir):\n",
    "    gt_path = outdir / 'gts_100.npz'\n",
    "    gt = np.load(gt_path)['gts']\n",
    "    return gt\n",
    "\n",
    "def load_interface_type(filename):\n",
    "    final_part = '_'.join(filename.stem.split('_')[5:-1])\n",
    "    \n",
    "    str_to_type = {\n",
    "        'datadirTANH_EPSILON00078125': InterfaceType.TANH_EPSILON,\n",
    "        'datadirTANH_EPSILON0015625': InterfaceType.TANH_EPSILON,\n",
    "        'datadirTANH_EPSILON003125': InterfaceType.TANH_EPSILON,\n",
    "        'datadirTANH_EPSILON00625': InterfaceType.TANH_EPSILON,\n",
    "        'datadirHEAVISIDE': InterfaceType.HEAVISIDE,\n",
    "        'datadirSIGNED_DISTANCE_EXACT': InterfaceType.SIGNED_DISTANCE_EXACT,\n",
    "        'datadirSIGNED_DISTANCE_APPROXIMATE': InterfaceType.SIGNED_DISTANCE_APPROXIMATE,\n",
    "    }\n",
    "    \n",
    "    return str_to_type[final_part]\n",
    "\n",
    "def load_epsilon(filename):\n",
    "    final_part = '_'.join(filename.stem.split('_')[5:-1])\n",
    "    \n",
    "    str_to_epsilon = {\n",
    "        'datadirTANH_EPSILON00078125': 0.0078125,\n",
    "        'datadirTANH_EPSILON0015625': 0.015625,\n",
    "        'datadirTANH_EPSILON003125': 0.03125,\n",
    "        'datadirTANH_EPSILON00625': 0.0625,\n",
    "        'datadirHEAVISIDE': None,\n",
    "        'datadirSIGNED_DISTANCE_EXACT': None,\n",
    "        'datadirSIGNED_DISTANCE_APPROXIMATE': None,\n",
    "    }\n",
    "    \n",
    "    return str_to_epsilon[final_part]\n",
    "\n",
    "\n",
    "def filename_to_plot_label(filename):\n",
    "    final_part = '_'.join(filename.stem.split('_')[5:-1])\n",
    "    \n",
    "    str_to_label = {\n",
    "        'datadirTANH_EPSILON00078125': 'Tanh 1/128',\n",
    "        'datadirTANH_EPSILON0015625': 'Tanh 1/64',\n",
    "        'datadirTANH_EPSILON003125': 'Tanh 1/32',\n",
    "        'datadirTANH_EPSILON00625': 'Tanh 1/16',\n",
    "        'datadirHEAVISIDE': 'Sharp',\n",
    "        'datadirSIGNED_DISTANCE_EXACT': 'Exact SDF',\n",
    "        'datadirSIGNED_DISTANCE_APPROXIMATE': 'Approx. SDF',\n",
    "    }\n",
    "    \n",
    "    return str_to_label[final_part]\n",
    "\n",
    "\n",
    "def compute_phi_sharp_from_tanh(phi):\n",
    "    return np.heaviside(phi - 0.5, 1)\n",
    "\n",
    "\n",
    "def compute_phi_sharp_from_sdf(psi):\n",
    "    return np.heaviside(-psi, 1)\n",
    "\n",
    "\n",
    "def dice_coefficient(gt_patch, pred_patch, level: float = 0.5):\n",
    "    \"\"\"Returns the dice coefficient of foreground region, obtained by thresholding the images at level\n",
    "    \"\"\"\n",
    "    gt_patch = gt_patch > level\n",
    "    pred_patch = pred_patch > level\n",
    "    intersection = np.sum(gt_patch * pred_patch)\n",
    "    union = np.sum(gt_patch) + np.sum(pred_patch)\n",
    "    return 2 * intersection / union\n",
    "\n",
    "\n",
    "def hausdorff_distance(gt_patch, pred_patch, level: float = 0.5):\n",
    "    \"\"\"Returns the Hausdorff distance of the foreground region, obtained by thresholding the images at level\n",
    "\n",
    "    Note:\n",
    "        The distance is in units of voxels, assumes isotropic voxels\n",
    "\n",
    "    Args:\n",
    "        gt_patch: Ground truth patch\n",
    "        pred_patch: Predicted patch\n",
    "        level: Threshold level\n",
    "        max_num_points: Maximum number of points to use in the distance calculation (for speed purposes)\n",
    "    \"\"\"\n",
    "    gt_patch = gt_patch > level\n",
    "    pred_patch = pred_patch > level\n",
    "\n",
    "    gt_indices = np.argwhere(gt_patch) * 1 / 64\n",
    "    pred_indices = np.argwhere(pred_patch) * 1 / 64\n",
    "\n",
    "    if len(gt_indices) == 0 or len(pred_indices) == 0:\n",
    "        return np.nan\n",
    "\n",
    "    h_1 = directed_hausdorff(gt_indices, pred_indices)[0]\n",
    "    h_2 = directed_hausdorff(pred_indices, gt_indices)[0]\n",
    "    return max(h_1, h_2)\n",
    "\n",
    "\n",
    "def get_phi_sharp_pred_and_gt(pred, gt, interface_type):\n",
    "    if interface_type == InterfaceType.TANH_EPSILON:\n",
    "        pred = compute_phi_sharp_from_tanh(pred)\n",
    "        gt = compute_phi_sharp_from_tanh(gt)\n",
    "    elif (interface_type == InterfaceType.SIGNED_DISTANCE_EXACT) or (interface_type == InterfaceType.SIGNED_DISTANCE_APPROXIMATE):\n",
    "        pred = compute_phi_sharp_from_sdf(pred)\n",
    "        gt = compute_phi_sharp_from_sdf(gt)\n",
    "    elif interface_type == InterfaceType.HEAVISIDE:\n",
    "        pred = compute_phi_sharp_from_tanh(pred)\n",
    "        gt = compute_phi_sharp_from_tanh(gt)\n",
    "    else:\n",
    "        raise ValueError('Unknown interface type')\n",
    "    return pred, gt\n",
    "    "
   ],
   "id": "6bc059ec2ffda7b9",
   "outputs": [],
   "execution_count": 4
  },
  {
   "metadata": {
    "ExecuteTime": {
     "end_time": "2025-02-03T00:56:50.672278Z",
     "start_time": "2025-02-03T00:56:50.671032Z"
    }
   },
   "cell_type": "code",
   "source": "",
   "id": "2dcafd01dbe6a9d1",
   "outputs": [],
   "execution_count": null
  },
  {
   "metadata": {
    "ExecuteTime": {
     "end_time": "2025-02-03T01:01:57.956289Z",
     "start_time": "2025-02-03T01:01:57.952399Z"
    }
   },
   "cell_type": "code",
   "source": [
    "files.sort()\n",
    "files"
   ],
   "id": "6f565814acfadfb0",
   "outputs": [
    {
     "data": {
      "text/plain": [
       "[PosixPath('../../output/lassen/interfacial_ae_v15_run_00_datadirSIGNED_DISTANCE_EXACT_seed0'),\n",
       " PosixPath('../../output/lassen/interfacial_ae_v15_run_01_datadirSIGNED_DISTANCE_APPROXIMATE_seed0'),\n",
       " PosixPath('../../output/lassen/interfacial_ae_v15_run_02_datadirHEAVISIDE_seed0'),\n",
       " PosixPath('../../output/lassen/interfacial_ae_v15_run_03_datadirTANH_EPSILON00078125_seed0'),\n",
       " PosixPath('../../output/lassen/interfacial_ae_v15_run_04_datadirTANH_EPSILON0015625_seed0'),\n",
       " PosixPath('../../output/lassen/interfacial_ae_v15_run_05_datadirTANH_EPSILON003125_seed0'),\n",
       " PosixPath('../../output/lassen/interfacial_ae_v15_run_06_datadirTANH_EPSILON00625_seed0')]"
      ]
     },
     "execution_count": 9,
     "metadata": {},
     "output_type": "execute_result"
    }
   ],
   "execution_count": 9
  },
  {
   "metadata": {
    "ExecuteTime": {
     "end_time": "2025-02-03T01:02:26.685885Z",
     "start_time": "2025-02-03T01:02:09.798753Z"
    }
   },
   "cell_type": "code",
   "source": [
    "from tqdm import tqdm\n",
    "\n",
    "plot_label_to_data = {}\n",
    "\n",
    "for file in files:\n",
    "    preds = load_preds(file)\n",
    "    gts = load_gt(file)\n",
    "    \n",
    "    interfacetype = load_interface_type(file)\n",
    "    plot_label = filename_to_plot_label(file)\n",
    "    epsilon = load_epsilon(file)\n",
    "    \n",
    "    print(interfacetype, epsilon)\n",
    "    \n",
    "    assert len(preds) == len(gts)\n",
    "    \n",
    "    means = []\n",
    "    dices = []\n",
    "    hds = []\n",
    "    \n",
    "    for pred, gt in zip(preds, gts):\n",
    "        pred, gt = get_phi_sharp_pred_and_gt(pred, gt, interfacetype)\n",
    "        \n",
    "        mse = np.mean((pred - gt)**2)\n",
    "        means.append(mse)\n",
    "        \n",
    "        dice = dice_coefficient(gt, pred)\n",
    "        dices.append(dice)\n",
    "        \n",
    "        #hd = hausdorff_distance(gt, pred)\n",
    "        #hds.append(hd)\n",
    "        \n",
    "    plot_label_to_data[plot_label] = {\n",
    "        'MSE': means,\n",
    "        'Dice': dices,\n",
    "        #'Hausdorff': hds\n",
    "    }\n",
    "        \n",
    "    "
   ],
   "id": "e8d24d41c83e161b",
   "outputs": [
    {
     "name": "stdout",
     "output_type": "stream",
     "text": [
      "InterfaceType.SIGNED_DISTANCE_EXACT None\n",
      "InterfaceType.SIGNED_DISTANCE_APPROXIMATE None\n",
      "InterfaceType.HEAVISIDE None\n",
      "InterfaceType.TANH_EPSILON 0.0078125\n",
      "InterfaceType.TANH_EPSILON 0.0015625\n",
      "InterfaceType.TANH_EPSILON 0.003125\n",
      "InterfaceType.TANH_EPSILON 0.00625\n"
     ]
    }
   ],
   "execution_count": 10
  },
  {
   "metadata": {
    "ExecuteTime": {
     "end_time": "2025-02-03T01:02:28.581946Z",
     "start_time": "2025-02-03T01:02:28.382350Z"
    }
   },
   "cell_type": "code",
   "source": [
    "# For each metric, create a set of box plots with interface type on the x-axis\n",
    "    \n",
    "# For each metric, create a set of box plots with interface type on the x-axis\n",
    "\n",
    "metrics = ['MSE', 'Dice', 'Hausdorff']  # Add 'Hausdorff' if needed\n",
    "higher_or_lower = ['lower', 'higher', 'lower']\n",
    "fig, axs = plt.subplots(1, len(metrics), figsize=(18, 6))\n",
    "\n",
    "for i, metric in enumerate(metrics):\n",
    "    data = [plot_label_to_data[label][metric] for label in plot_label_to_data]\n",
    "    labels = list(plot_label_to_data.keys())\n",
    "    axs[i].boxplot(data, tick_labels=labels)\n",
    "    axs[i].set_title(f'{metric} ({higher_or_lower[i]} better)')\n",
    "    axs[i].set_ylabel(metric)\n",
    "    axs[i].spines['top'].set_visible(False)\n",
    "    axs[i].spines['right'].set_visible(False)\n",
    "    axs[i].tick_params(axis='x', rotation=45)\n",
    "\n",
    "plt.tight_layout()\n",
    "plt.show()"
   ],
   "id": "c6cecb8bfe6e98fb",
   "outputs": [
    {
     "ename": "KeyError",
     "evalue": "'Hausdorff'",
     "output_type": "error",
     "traceback": [
      "\u001B[0;31m---------------------------------------------------------------------------\u001B[0m",
      "\u001B[0;31mKeyError\u001B[0m                                  Traceback (most recent call last)",
      "Cell \u001B[0;32mIn[11], line 10\u001B[0m\n\u001B[1;32m      7\u001B[0m fig, axs \u001B[38;5;241m=\u001B[39m plt\u001B[38;5;241m.\u001B[39msubplots(\u001B[38;5;241m1\u001B[39m, \u001B[38;5;28mlen\u001B[39m(metrics), figsize\u001B[38;5;241m=\u001B[39m(\u001B[38;5;241m18\u001B[39m, \u001B[38;5;241m6\u001B[39m))\n\u001B[1;32m      9\u001B[0m \u001B[38;5;28;01mfor\u001B[39;00m i, metric \u001B[38;5;129;01min\u001B[39;00m \u001B[38;5;28menumerate\u001B[39m(metrics):\n\u001B[0;32m---> 10\u001B[0m     data \u001B[38;5;241m=\u001B[39m [\u001B[43mplot_label_to_data\u001B[49m\u001B[43m[\u001B[49m\u001B[43mlabel\u001B[49m\u001B[43m]\u001B[49m\u001B[43m[\u001B[49m\u001B[43mmetric\u001B[49m\u001B[43m]\u001B[49m \u001B[38;5;28;01mfor\u001B[39;00m label \u001B[38;5;129;01min\u001B[39;00m plot_label_to_data]\n\u001B[1;32m     11\u001B[0m     labels \u001B[38;5;241m=\u001B[39m \u001B[38;5;28mlist\u001B[39m(plot_label_to_data\u001B[38;5;241m.\u001B[39mkeys())\n\u001B[1;32m     12\u001B[0m     axs[i]\u001B[38;5;241m.\u001B[39mboxplot(data, tick_labels\u001B[38;5;241m=\u001B[39mlabels)\n",
      "\u001B[0;31mKeyError\u001B[0m: 'Hausdorff'"
     ]
    },
    {
     "data": {
      "text/plain": [
       "<Figure size 1800x600 with 3 Axes>"
      ],
      "image/png": "[encoded data removed]"
     },
     "metadata": {},
     "output_type": "display_data"
    }
   ],
   "execution_count": 11
  },
  {
   "metadata": {
    "ExecuteTime": {
     "end_time": "2025-02-03T01:02:49.936456Z",
     "start_time": "2025-02-03T01:02:49.934451Z"
    }
   },
   "cell_type": "code",
   "source": "",
   "id": "f034e43626c7bf03",
   "outputs": [],
   "execution_count": null
  },
  {
   "metadata": {
    "jupyter": {
     "is_executing": true
    },
    "ExecuteTime": {
     "start_time": "2025-02-03T01:02:50.718168Z"
    }
   },
   "cell_type": "code",
   "source": [
    "# Compare droplet PDFs for gt/pred, for each interface type\n",
    "from scipy.ndimage import label\n",
    "\n",
    "def compute_droplet_pdf(arr):\n",
    "    # Assume that arr is binary. Label connected components, and return the histogram of the sizes\n",
    "    labeled_arr, num_labels = label(arr)\n",
    "    sizes = np.bincount(labeled_arr.ravel())\n",
    "    return sizes[1:]\n",
    "\n",
    "plot_label_to_data = {}\n",
    "\n",
    "for file in files:\n",
    "    preds = load_preds(file)\n",
    "    gts = load_gt(file)\n",
    "    \n",
    "    interfacetype = load_interface_type(file)\n",
    "    plot_label = filename_to_plot_label(file)\n",
    "    epsilon = load_epsilon(file)\n",
    "    \n",
    "    print(interfacetype, epsilon)\n",
    "    \n",
    "    assert len(preds) == len(gts)\n",
    "    \n",
    "    pred_sizes = []\n",
    "    gt_sizes = []\n",
    "    \n",
    "    for pred, gt in zip(preds, gts):\n",
    "        pred, gt = get_phi_sharp_pred_and_gt(pred, gt, interfacetype)\n",
    "        \n",
    "        pred_size = compute_droplet_pdf(pred)\n",
    "        gt_size = compute_droplet_pdf(gt)\n",
    "        \n",
    "        pred_sizes.extend(pred_size)\n",
    "        gt_sizes.extend(gt_size)\n",
    "        \n",
    "    plot_label_to_data[plot_label] = {\n",
    "        'gt': gt_sizes,\n",
    "        'pred': pred_sizes\n",
    "    }\n",
    "        \n",
    "        "
   ],
   "id": "c51756e86a4e19ad",
   "outputs": [
    {
     "name": "stdout",
     "output_type": "stream",
     "text": [
      "InterfaceType.SIGNED_DISTANCE_EXACT None\n",
      "InterfaceType.SIGNED_DISTANCE_APPROXIMATE None\n",
      "InterfaceType.HEAVISIDE None\n"
     ]
    }
   ],
   "execution_count": null
  },
  {
   "metadata": {},
   "cell_type": "code",
   "source": "",
   "id": "6132e8ec4b375d60",
   "outputs": [],
   "execution_count": null
  },
  {
   "metadata": {},
   "cell_type": "code",
   "source": "",
   "id": "f3de8275d28ec281",
   "outputs": [],
   "execution_count": null
  },
  {
   "metadata": {},
   "cell_type": "code",
   "source": "",
   "id": "bf783566ebcdc658",
   "outputs": [],
   "execution_count": null
  },
  {
   "metadata": {},
   "cell_type": "code",
   "source": [
    "\n",
    "# Plot the droplet PDFs\n",
    "fig, axs = plt.subplots(1, len(plot_label_to_data), figsize=(18, 6))\n",
    "\n",
    "for i, label in enumerate(plot_label_to_data):\n",
    "    data = plot_label_to_data[label]\n",
    "    axs[i].hist(data['gt'], bins=50, alpha=0.5, label='GT')\n",
    "    axs[i].hist(data['pred'], bins=50, alpha=0.5, label='Pred')\n",
    "    axs[i].set_title(label)\n",
    "    axs[i].set_xlabel('Droplet size')\n",
    "    axs[i].set_ylabel('Frequency')\n",
    "    axs[i].legend()\n",
    "    axs[i].spines['top'].set_visible(False)\n",
    "    axs[i].spines['right'].set_visible(False)\n"
   ],
   "id": "6d5675d809f5e760",
   "outputs": [],
   "execution_count": null
  },
  {
   "metadata": {},
   "cell_type": "markdown",
   "source": [
    "# Summary\n",
    "\n",
    "\n",
    "\n",
    "# Next steps\n",
    "\n"
   ],
   "id": "321c23b1de1720cf"
  },
  {
   "metadata": {},
   "cell_type": "markdown",
   "source": "",
   "id": "998f9f8de32747e1"
  }
 ],
 "metadata": {
  "kernelspec": {
   "display_name": "Python 3",
   "language": "python",
   "name": "python3"
  },
  "language_info": {
   "codemirror_mode": {
    "name": "ipython",
    "version": 2
   },
   "file_extension": ".py",
   "mimetype": "text/x-python",
   "name": "python",
   "nbconvert_exporter": "python",
   "pygments_lexer": "ipython2",
   "version": "2.7.6"
  }
 },
 "nbformat": 4,
 "nbformat_minor": 5
}
