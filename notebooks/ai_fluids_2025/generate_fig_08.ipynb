{
 "cells": [
  {
   "cell_type": "code",
   "id": "initial_id",
   "metadata": {
    "collapsed": true
   },
   "source": [
    "import matplotlib.pyplot as plt\n",
    "import pandas as pd\n",
    "import numpy as np\n",
    "from fractions import Fraction\n",
    "from scipy.ndimage import label\n",
    "\n",
    "from src.interface_representation.interface_types import InterfaceType\n",
    "\n",
    "\n",
    "def compute_droplet_pdf(arr):\n",
    "    labeled_arr, num_labels = label(arr)\n",
    "    sizes = np.bincount(labeled_arr.ravel())\n",
    "    return sizes[1:]\n",
    "\n",
    "\n",
    "def create_droplet_pdf_plots_mu(df, outdir_to_metrics):\n",
    "    \"\"\"\n",
    "    Create plots comparing droplet size distributions across different interface types and mu values.\n",
    "\n",
    "    Parameters:\n",
    "    -----------\n",
    "    df : pandas.DataFrame\n",
    "        DataFrame containing columns: 'mu', 'interface_type', 'epsilon'\n",
    "    \"\"\"\n",
    "    # TODO\n",
    "\n",
    "\n",
    "\n",
    "# Call the function with your DataFrame and outdir_to_metrics dictionary\n",
    "df = pd.read_csv('evaluation_results_2.csv')\n",
    "outdir_to_metrics = np.load('metrics_v25.npz')\n",
    "create_droplet_pdf_plots_mu(df, outdir_to_metrics)"
   ],
   "outputs": [],
   "execution_count": null
  },
  {
   "metadata": {},
   "cell_type": "code",
   "source": "",
   "id": "9abff55058500ab7",
   "outputs": [],
   "execution_count": null
  }
 ],
 "metadata": {
  "kernelspec": {
   "display_name": "Python 3",
   "language": "python",
   "name": "python3"
  },
  "language_info": {
   "codemirror_mode": {
    "name": "ipython",
    "version": 2
   },
   "file_extension": ".py",
   "mimetype": "text/x-python",
   "name": "python",
   "nbconvert_exporter": "python",
   "pygments_lexer": "ipython2",
   "version": "2.7.6"
  }
 },
 "nbformat": 4,
 "nbformat_minor": 5
}
